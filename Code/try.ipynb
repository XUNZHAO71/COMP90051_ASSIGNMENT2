{
 "cells": [
  {
   "cell_type": "code",
   "execution_count": 17,
   "id": "b91d2f9a",
   "metadata": {},
   "outputs": [],
   "source": [
    "import json\n",
    "import pandas as pd\n",
    "from sklearn.model_selection import train_test_split\n",
    "from sklearn.feature_extraction.text import TfidfVectorizer\n",
    "\n",
    "def load_json(file_path):\n",
    "    with open(file_path, 'r') as f:\n",
    "        return [json.loads(line) for line in f]\n",
    "\n",
    "# 加载数据\n",
    "domain1 = load_json(r\"domain1_train_data.json\")  # 平衡\n",
    "domain2 = load_json(r\"domain2_train_data.json\")  # 非平衡\n",
    "\n",
    "# 转换成DataFrame\n",
    "df1 = pd.DataFrame(domain1)\n",
    "df2 = pd.DataFrame(domain2)\n",
    "\n",
    "# 合并\n",
    "df = pd.concat([df1, df2], ignore_index=True)\n",
    "\n",
    "# 用空格连接 tokens（索引序列）\n",
    "df['text'] = df['text'].apply(lambda x: ' '.join(map(str, x)))\n"
   ]
  },
  {
   "cell_type": "code",
   "execution_count": 18,
   "id": "16df0f41",
   "metadata": {},
   "outputs": [],
   "source": [
    "X = df['text']\n",
    "y = df['label']\n",
    "\n",
    "X_train, X_val, y_train, y_val = train_test_split(X, y, stratify=y, test_size=0.2, random_state=42)\n"
   ]
  },
  {
   "cell_type": "code",
   "execution_count": 19,
   "id": "4dfbd76c",
   "metadata": {},
   "outputs": [],
   "source": [
    "from sklearn.feature_extraction.text import TfidfVectorizer\n",
    "\n",
    "# token 被视为“词”（整数索引）\n",
    "vectorizer = TfidfVectorizer(analyzer=\"word\", token_pattern=r\"\\S+\")\n",
    "\n",
    "X_train_tfidf = vectorizer.fit_transform(X_train)\n",
    "X_val_tfidf = vectorizer.transform(X_val)\n"
   ]
  },
  {
   "cell_type": "code",
   "execution_count": 20,
   "id": "ecd6e142",
   "metadata": {},
   "outputs": [
    {
     "name": "stdout",
     "output_type": "stream",
     "text": [
      "              precision    recall  f1-score   support\n",
      "\n",
      "           0       0.65      0.87      0.74       150\n",
      "           1       0.98      0.93      0.96      1050\n",
      "\n",
      "    accuracy                           0.93      1200\n",
      "   macro avg       0.81      0.90      0.85      1200\n",
      "weighted avg       0.94      0.93      0.93      1200\n",
      "\n",
      "Validation Accuracy: 0.925\n"
     ]
    }
   ],
   "source": [
    "from sklearn.linear_model import LogisticRegression\n",
    "from sklearn.metrics import classification_report, accuracy_score\n",
    "\n",
    "clf = LogisticRegression(max_iter=1000, class_weight=\"balanced\", random_state=42)\n",
    "clf.fit(X_train_tfidf, y_train)\n",
    "\n",
    "y_pred = clf.predict(X_val_tfidf)\n",
    "print(classification_report(y_val, y_pred))\n",
    "print(\"Validation Accuracy:\", accuracy_score(y_val, y_pred))\n"
   ]
  },
  {
   "cell_type": "code",
   "execution_count": 21,
   "id": "62e9cc55",
   "metadata": {},
   "outputs": [],
   "source": [
    "# 加载测试数据（与训练集格式一致）\n",
    "test_data = load_json(r\"test_data.json\")\n",
    "df_test = pd.DataFrame(test_data)\n",
    "df_test['text'] = df_test['text'].apply(lambda x: ' '.join(map(str, x)))\n",
    "\n",
    "# 向量化\n",
    "X_test_tfidf = vectorizer.transform(df_test['text'])\n",
    "\n",
    "# 预测\n",
    "y_test_pred = clf.predict(X_test_tfidf)\n"
   ]
  },
  {
   "cell_type": "code",
   "execution_count": 13,
   "id": "5c411b9d",
   "metadata": {},
   "outputs": [],
   "source": [
    "submission = pd.DataFrame({'id': range(len(y_test_pred)), 'class': y_test_pred})\n",
    "submission.to_csv(\"submission.csv\", index=False)\n"
   ]
  }
 ],
 "metadata": {
  "kernelspec": {
   "display_name": "Python 3",
   "language": "python",
   "name": "python3"
  },
  "language_info": {
   "codemirror_mode": {
    "name": "ipython",
    "version": 3
   },
   "file_extension": ".py",
   "mimetype": "text/x-python",
   "name": "python",
   "nbconvert_exporter": "python",
   "pygments_lexer": "ipython3",
   "version": "3.11.2"
  }
 },
 "nbformat": 4,
 "nbformat_minor": 5
}
